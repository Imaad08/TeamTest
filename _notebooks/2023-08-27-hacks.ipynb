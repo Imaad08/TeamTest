{
 "cells": [
  {
   "cell_type": "markdown",
   "metadata": {},
   "source": [
    "<!-- ---\n",
    "layout: post\n",
    "title: Hacks\n",
    "description: Things I wish I knew before I started.\n",
    "toc: true\n",
    "comments: true\n",
    "categories: [5.A, C4.1]\n",
    "courses: { csse: {week: 1}, csp: {week: 1, categories: [6.B]}, csa: {week: 1} }\n",
    "type: devops\n",
    "--- -->"
   ]
  },
  {
   "cell_type": "markdown",
   "metadata": {},
   "source": [
    "# Hacks\n",
    "\n",
    "- Use mkdir to create a directory, then use cd to navigate into that directory.\n",
    "- Use git clone to create a local copy of a GitHub repository in the created directory.\n",
    "- Run bundle install where the Gemfile is located to download all dependencies (usually in the VS Code terminal of the project).\n",
    "- Ensure you have the correct Ruby and Python versions by using ruby -v and python --version.\n",
    "- Use Python's pip command to download nbconvert, nbformat, and pyyaml in order to run the make command.\n",
    "- After opening the server address, start making edits to the index.md file to change the main home page.\n",
    "- For MacOS troubleshooting:\n",
    "    - In the terminal, run cd vscode, then cd teacher, cd scripts.\n",
    "    - Use ls to list files in the folder. You will see a file called activate_macos.sh.\n",
    "    - Run ./activate_macos.sh and let it run."
   ]
  }
 ],
 "metadata": {
  "language_info": {
   "name": "python"
  },
  "orig_nbformat": 4
 },
 "nbformat": 4,
 "nbformat_minor": 2
}
