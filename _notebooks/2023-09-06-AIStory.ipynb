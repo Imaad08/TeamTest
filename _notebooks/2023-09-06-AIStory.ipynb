{
 "cells": [
  {
   "cell_type": "markdown",
   "metadata": {},
   "source": [
    "<!-- ---\n",
    "toc: true\n",
    "comments: false\n",
    "layout: post\n",
    "title: AI Story Generator\n",
    "description: Generates a story based on a prompt using a pre-trained GPT machine learning model\n",
    "courses: { compsci: {week: 3} }\n",
    "type: hacks\n",
    "--- -->"
   ]
  },
  {
   "cell_type": "code",
   "execution_count": 3,
   "metadata": {},
   "outputs": [
    {
     "name": "stdout",
     "output_type": "stream",
     "text": [
      "In a small, colorful village nestled in the hills, there lived a curious young explorer named Lily. One sunny morning, she stumbled upon a mysterious, glowing object in the forest, which had an eerie glow emanating from it.\n",
      "\n",
      "Lily knew it was something, but she had no idea what it was. She did find the creature, which appeared to be a human, inside the object, and that it was still glowing. She tried to contact the thing, but she couldn't reach it. She finally came across the village of Marienburg when she had to find her father in the forest. He found her out there, just a step away!\n",
      "\n",
      "But it turned out that the glowing thing that Lily had seen was quite different from the human she was in the forest, and she had the distinct possibility that it was something else. So she got the other villagers to help her in doing research to see if there was anything to this strange glowing object or why it was glowing.\n",
      "\n",
      "The villagers were thrilled to be able to help her, and the only one who didn't find the object as it had previously occurred to her was the mysterious man who appeared in her vision. He had been there, and his voice was hauntingly familiar despite its strangeness!\n",
      "\n",
      "Lily was soon on an expedition to investigate the mysterious object, but when she finally stumbled into the village of Marienburg... the village was now in shambles! The villagers were fighting, and Lily was afraid for her life!\n",
      "\n",
      "She was going to be murdered by these two people...! Not only that, she was going to have to do some serious thinking if she desired to save her life! She was going off on a new adventure all of her own, with no one to look out for her. She knew her life was in peril, but she was determined to save it! So she became an adventurer as her last act in an old adventure adventure!\n",
      "\n",
      "Who Are The Villages Of Marienburg?\n"
     ]
    }
   ],
   "source": [
    "import torch\n",
    "from transformers import GPT2LMHeadModel, GPT2Tokenizer\n",
    "\n",
    "# Load the pre-trained GPT-2 model and tokenizer\n",
    "model_name = \"gpt2-medium\"  # Choose model size\n",
    "tokenizer = GPT2Tokenizer.from_pretrained(model_name)\n",
    "model = GPT2LMHeadModel.from_pretrained(model_name)\n",
    "\n",
    "# Set the model to evaluation mode\n",
    "model.eval()\n",
    "\n",
    "# Function to generate story\n",
    "def generate_story(prompt, max_length=1000, temperature=1.0):\n",
    "    # Tokenize the user-provided story prompt and convert it into input_ids\n",
    "    input_ids = tokenizer.encode(prompt, return_tensors=\"pt\")\n",
    "    \n",
    "    # Generate a story based on the input_ids (prompt)\n",
    "    output = model.generate(\n",
    "        input_ids,\n",
    "        max_length=max_length,\n",
    "        temperature=temperature,\n",
    "        num_return_sequences=1,  # Generate a single sequence\n",
    "        pad_token_id=50256,      # Specify the padding token ID for GPT-2\n",
    "        do_sample=True,          # Allow for sampling to introduce randomness\n",
    "    )\n",
    "    \n",
    "    # Decode the generated output into human-readable text, skipping special tokens\n",
    "    story = tokenizer.decode(output[0], skip_special_tokens=True)\n",
    "    return story\n",
    "\n",
    "# Prompt the user to enter a story prompt\n",
    "prompt = input(\"Enter a story prompt: \")\n",
    "\n",
    "# Generate a story based on the user-provided prompt using the generate_story function\n",
    "story = generate_story(prompt)\n",
    "\n",
    "# Print the generated story\n",
    "print(story)\n"
   ]
  },
  {
   "cell_type": "markdown",
   "metadata": {},
   "source": [
    "<script src=\"https://utteranc.es/client.js\"\n",
    "        repo=\"student2\"\n",
    "        issue-term=\"pathname\"\n",
    "        theme=\"github-light\"\n",
    "        crossorigin=\"anonymous\"\n",
    "        async>\n",
    "</script> "
   ]
  }
 ],
 "metadata": {
  "kernelspec": {
   "display_name": "base",
   "language": "python",
   "name": "python3"
  },
  "language_info": {
   "codemirror_mode": {
    "name": "ipython",
    "version": 3
   },
   "file_extension": ".py",
   "mimetype": "text/x-python",
   "name": "python",
   "nbconvert_exporter": "python",
   "pygments_lexer": "ipython3",
   "version": "3.10.12"
  },
  "orig_nbformat": 4
 },
 "nbformat": 4,
 "nbformat_minor": 2
}
