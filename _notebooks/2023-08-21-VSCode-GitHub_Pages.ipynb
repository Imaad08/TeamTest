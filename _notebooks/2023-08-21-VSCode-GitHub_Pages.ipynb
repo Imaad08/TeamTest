{
 "cells": [
  {
   "attachments": {},
   "cell_type": "markdown",
   "metadata": {},
   "source": [
    "---\n",
    "comments: true\n",
    "layout: post\n",
    "title: Student GitHub Pages\n",
    "description: A key to development in this class is the association VSCode to a GitHub pages project.  This is where students update assignments and present work.\n",
    "type: hacks\n",
    "courses: { csse: {week: 0}, csp: {week: 0}, csa: {week: 0} }\n",
    "categories: [C4.1]\n",
    "---"
   ]
  },
  {
   "attachments": {},
   "cell_type": "markdown",
   "metadata": {},
   "source": [
    "## Create your own GitHub Pages Project\n",
    "> Make you own project from GitHub Pages Student Repo."
   ]
  },
  {
   "attachments": {},
   "cell_type": "markdown",
   "metadata": {},
   "source": [
    "## Make a GitHub Pages Repository\n",
    "> Goto GitHub [student](https://github.com/nighthawkcoders/student).\n",
    "\n",
    "- Reference: [Create from template](https://docs.github.com/en/repositories/creating-and-managing-repositories/creating-a-repository-from-a-template).  Most student will pick this option.\n",
    "\n",
    "\n",
    "- Reference: [Fork a repo](https://docs.github.com/en/get-started/quickstart/fork-a-repo).  Student in CSA that teacher has asked to contribute to student example repo will pick this.\n"
   ]
  },
  {
   "attachments": {},
   "cell_type": "markdown",
   "metadata": {},
   "source": [
    "## Start the GitHub Pages Student Project\n",
    "> Run the following commands using terminal on you machine.  Be sure Repo has been forked.\n",
    "\n",
    "- Clone and Open project in VSCode\n",
    "- Change \"forkme\" text with your \"ghid\" or selected location\n",
    "\n",
    "\n",
    "```bash\n",
    "(base) id:~$ mkdir vscode # make a vscode directory, if you don't have one\n",
    "(base) id:~$ cd vscode # change to the directory\n",
    "(base) id:~$ git clone https://github.com/forkme/student.git # change to your repo\n",
    "(base) id:~$ cd  student  # change to the project directory\n",
    "(base) id:~$ code . # open VSCode in project directory\n",
    "```"
   ]
  },
  {
   "attachments": {},
   "cell_type": "markdown",
   "metadata": {},
   "source": [
    "### VSCode for Python Extensions, adapt for your needs JavaScript, Python, Java\n",
    "- VSCode [Language extensions](https://code.visualstudio.com/docs/languages/overview)\n",
    "    - Install Python, Python Environment Manager, Python Extension Pack, Pylance\n",
    "    - Install Jupyter, Jupyter Keymap\n",
    "    - Install IntelliCode, IntelliCode API Usage Examples\n",
    "    - Windows machines install WSL Remote Development"
   ]
  },
  {
   "cell_type": "code",
   "execution_count": 7,
   "metadata": {
    "vscode": {
     "languageId": "html"
    }
   },
   "outputs": [
    {
     "data": {
      "text/html": [
       "\n",
       "<!-- Here is a little preview of HTML to Describe VSCode Marketplace -->\n",
       "\n",
       "<div>\n",
       "    <div style=\"float: left; margin: 0px 10px 10px 0px;\">\n",
       "        <a href=\"https://marketplace.visualstudio.com/vscode\">\n",
       "            <img alt=\"Extensions\" src=\"{{site.baseurl}}/images/extensions.png\" title=\"VS Code Marketplace\" width=\"250\">\n",
       "        </a>\n",
       "    </div>\n",
       "    <div>\n",
       "        <hr>\n",
       "        <p>\n",
       "        Visual Studio Code claims to provide just the tools a developer needs for a quick code-build-debug and version control cycle.  It provides a Market Place for enhancements and more complex workflows.  <mark>Before adding extensions, clone projects</mark> and see what is requested or added.  Here are some extension that were added through that process or that I have added...\n",
       "        </p>\n",
       "        <ul>\n",
       "            <li>\n",
       "                <mark>In marketplace</mark> there are several extensions for Python, Python Intellisense, Python Extension Pack\n",
       "            </li>\n",
       "            <li>\n",
       "                <mark>Jupyter</mark>: This supports build jupyter ipynb files from within VS Code\n",
       "            </li>\n",
       "            <li>\n",
       "                <mark>Code Spell Checker</mark>: Got to have it when building documents, particularly if you spell and typo like the Teacher\n",
       "            </li>\n",
       "            <li>\n",
       "                <mark>IntelliCode</mark>: Got to have it when creating a code file, it will sense type of code by extension.  Also, it help with syntax as you are coding.\n",
       "            </li>\n",
       "        </ul>\n",
       "        <p>\n",
       "        <mark>Review Details in Marketplace for better explanation of purpose of the things explained above</mark>. There is a lot more!  As you need Git help look at things like <mark>Git History and GitLens</mark>.  Or, perhaps you enjoy Vim and want Vim emulation for editing, their is an extension for that.  Later, there may be interest in AWS Toolkit or Deploy extensions.  We will learn more about Marketplace Extensions as we do more.\n",
       "        </p>\n",
       "        <hr>\n",
       "    </div>\n",
       "</div>\n"
      ],
      "text/plain": [
       "<IPython.core.display.HTML object>"
      ]
     },
     "metadata": {},
     "output_type": "display_data"
    }
   ],
   "source": [
    "%%HTML\n",
    "\n",
    "<!-- Here is a little preview of HTML to Describe VSCode Marketplace -->\n",
    "\n",
    "<div>\n",
    "    <div style=\"float: left; margin: 0px 10px 10px 0px;\">\n",
    "        <a href=\"https://marketplace.visualstudio.com/vscode\">\n",
    "            <img alt=\"Extensions\" src=\"{{site.baseurl}}/images/extensions.png\" title=\"VS Code Marketplace\" width=\"250\">\n",
    "        </a>\n",
    "    </div>\n",
    "    <div>\n",
    "        <hr>\n",
    "        <p>\n",
    "        Visual Studio Code claims to provide just the tools a developer needs for a quick code-build-debug and version control cycle.  It provides a Market Place for enhancements and more complex workflows.  <mark>Before adding extensions, clone projects</mark> and see what is requested or added.  Here are some extension that were added through that process or that I have added...\n",
    "        </p>\n",
    "        <ul>\n",
    "            <li>\n",
    "                <mark>In marketplace</mark> there are several extensions for Python, Python Intellisense, Python Extension Pack\n",
    "            </li>\n",
    "            <li>\n",
    "                <mark>Jupyter</mark>: This supports build jupyter ipynb files from within VS Code\n",
    "            </li>\n",
    "            <li>\n",
    "                <mark>Code Spell Checker</mark>: Got to have it when building documents, particularly if you spell and typo like the Teacher\n",
    "            </li>\n",
    "            <li>\n",
    "                <mark>IntelliCode</mark>: Got to have it when creating a code file, it will sense type of code by extension.  Also, it help with syntax as you are coding.\n",
    "            </li>\n",
    "        </ul>\n",
    "        <p>\n",
    "        <mark>Review Details in Marketplace for better explanation of purpose of the things explained above</mark>. There is a lot more!  As you need Git help look at things like <mark>Git History and GitLens</mark>.  Or, perhaps you enjoy Vim and want Vim emulation for editing, their is an extension for that.  Later, there may be interest in AWS Toolkit or Deploy extensions.  We will learn more about Marketplace Extensions as we do more.\n",
    "        </p>\n",
    "        <hr>\n",
    "    </div>\n",
    "</div>"
   ]
  },
  {
   "attachments": {},
   "cell_type": "markdown",
   "metadata": {},
   "source": [
    "## Hacks\n",
    "> Setup Tools and test GitHub connection. Tool and Equipment setup is like attendance, without Tools and Equipment you are effectually absent.\n",
    "- Change index.md to show it is REALLY YOURS.  Refer to [Markdown Cheet Sheet](https://www.markdownguide.org/cheat-sheet/).\n",
    "    - Push a minor \"index.md\" change and Verify on GitHub [https://code.visualstudio.com/docs/editor/versioncontrol#_git-support](https://code.visualstudio.com/docs/editor/versioncontrol#_git-support)\n",
    "    - Verify \"index.md\" change on deployed GitHub Pages"
   ]
  },
  {
   "attachments": {},
   "cell_type": "markdown",
   "metadata": {},
   "source": []
  }
 ],
 "metadata": {
  "kernelspec": {
   "display_name": "Python 3 (ipykernel)",
   "language": "python",
   "name": "python3"
  },
  "language_info": {
   "codemirror_mode": {
    "name": "ipython",
    "version": 3
   },
   "file_extension": ".py",
   "mimetype": "text/x-python",
   "name": "python",
   "nbconvert_exporter": "python",
   "pygments_lexer": "ipython3",
   "version": "3.9.12"
  }
 },
 "nbformat": 4,
 "nbformat_minor": 2
}
