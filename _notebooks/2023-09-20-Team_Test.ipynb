{
 "cells": [
  {
   "cell_type": "markdown",
   "metadata": {},
   "source": [
    "<!-- ---\n",
    "toc: false\n",
    "comments: True\n",
    "layout: post\n",
    "title: Team Test \n",
    "description: Jupyter Notebook for team test.\n",
    "courses: { compsci: {week: 4} }\n",
    "type: hacks\n",
    "--- -->\n",
    "\n",
    "# Team Test\n",
    "\n",
    "<style>\n",
    "  .bullet-points {\n",
    "    list-style-type: disc; \n",
    "    margin-left: 40px; \n",
    "  }\n",
    "  .bullet-points li {\n",
    "    margin-bottom: 20px; \n",
    "  }\n",
    "</style>\n",
    "\n",
    "<ul class = \"bullet-points\">\n",
    "  <li>This is our page that we coded for the team test. We have recorded a video to go along and explaining our website.</li>\n",
    "</ul>\n",
    "\n"
   ]
  },
  {
   "cell_type": "markdown",
   "metadata": {},
   "source": [
    "\n",
    "---\n",
    "\n",
    "## Program with Output:\n",
    "\n",
    "<style>\n",
    "  .bullet-points {\n",
    "    list-style-type: disc; \n",
    "    margin-left: 40px; \n",
    "  }\n",
    "  .bullet-points li {\n",
    "    margin-bottom: 20px; \n",
    "  }\n",
    "</style>\n",
    "\n",
    "<ul class = \"bullet-points\">\n",
    "  <li>Gets stock data and displays it on a graph</li>\n",
    "</ul>"
   ]
  },
  {
   "cell_type": "code",
   "execution_count": null,
   "metadata": {},
   "outputs": [],
   "source": [
    "import numpy as np\n",
    "import pandas as pd\n",
    "import pandas_datareader.data as web\n",
    "# Get stock data  \n",
    "all_data = {ticker: web.DataReader(ticker,'stooq')\n",
    "           for ticker in ['AAPL', 'NVDA', 'MSFT', 'TSLA', 'AMZN', 'NFLX', 'QCOM', 'SBUX']}\n",
    "# Extract the 'Adjusted Closing Price'\n",
    "price = pd.DataFrame({ticker: data['Close']\n",
    "                     for ticker, data in all_data.items() })"
   ]
  },
  {
   "cell_type": "code",
   "execution_count": null,
   "metadata": {},
   "outputs": [],
   "source": [
    "import matplotlib.pyplot as plt"
   ]
  },
  {
   "cell_type": "code",
   "execution_count": null,
   "metadata": {},
   "outputs": [],
   "source": [
    "fig1, axes1 = plt.subplots(2,4, sharex = True, sharey = True)\n",
    "\n",
    "axes1[0,0].plot(price['AAPL'],'-', color = 'gold', label = 'AAPL')\n",
    "axes1[0,0].legend(loc = 'best')\n",
    "\n",
    "axes1[0,1].plot(price['NVDA'],'-', color = 'red', label = 'NVDA')\n",
    "axes1[0,1].legend(loc = 'best')\n",
    "\n",
    "axes1[0,2].plot(price['MSFT'],'-', color = 'blue', label = 'MSFT')\n",
    "axes1[0,2].legend(loc = 'best')\n",
    "\n",
    "axes1[0,3].plot(price['TSLA'],'-', color = 'royalblue', label = 'TSLA')\n",
    "axes1[0,3].legend(loc = 'best')\n",
    "\n",
    "axes1[1,0].plot(price['AMZN'],'-', color = 'black', label = 'AMZN')\n",
    "axes1[1,0].legend(loc = 'best')\n",
    "\n",
    "axes1[1,1].plot(price['NFLX'],'-', color = 'purple', label = 'NFLX')\n",
    "axes1[1,1].legend(loc = 'best')\n",
    "\n",
    "axes1[1,2].plot(price['QCOM'],'-', color = 'pink', label = 'QCOM')\n",
    "axes1[1,2].legend(loc = 'best')\n",
    "\n",
    "axes1[1,3].plot(price['SBUX'],'-', color = 'green', label = 'SBUX')\n",
    "axes1[1,3].legend(loc = 'best') \n",
    "\n",
    "# fig1.savefig('stocks1.pdf')"
   ]
  },
  {
   "cell_type": "markdown",
   "metadata": {},
   "source": [
    "| <img src=\"https://i.ibb.co/MZB4yQN/stocks1.jpg\" width = auto height = auto > |"
   ]
  },
  {
   "cell_type": "code",
   "execution_count": null,
   "metadata": {},
   "outputs": [],
   "source": [
    "fig = plt.figure()\n",
    "ax = fig.add_subplot(1,1,1)\n",
    "plt.plot(price['AAPL'], '-',color = 'gold', label = 'AAPL')\n",
    "plt.plot(price['NVDA'],'-', color = 'red', label = 'NVDA')\n",
    "plt.plot(price['MSFT'],'-', color = 'blue', label = 'MSFT')\n",
    "plt.plot(price['TSLA'],'-', color = 'royalblue', label = 'TSLA')\n",
    "plt.plot(price['AMZN'],'-', color = 'black', label = 'AMZN')\n",
    "plt.plot(price['NFLX'],'-', color = 'purple', label = 'NFLX')\n",
    "plt.plot(price['QCOM'],'-', color = 'pink', label = 'QCOM')\n",
    "plt.plot(price['SBUX'],'-', color = 'green', label = 'SBUX')\n",
    "ax.legend(loc = 'best')\n",
    "ax.set_ylabel(\"Price\", fontsize=12)\n",
    "ax.set_xlabel(\"Year\", fontsize=12)\n",
    "ax.set_title(\"Sample Portfolio\", fontsize = 16)"
   ]
  },
  {
   "cell_type": "markdown",
   "metadata": {},
   "source": [
    "| <img src=\"https://i.ibb.co/0nC3y1Y/stocks2.png\" width = auto height = auto > |"
   ]
  },
  {
   "cell_type": "markdown",
   "metadata": {},
   "source": [
    "\n",
    "---\n",
    "\n",
    "## Program with Input/Output:\n",
    "\n",
    "<style>\n",
    "  .bullet-points {\n",
    "    list-style-type: disc; \n",
    "    margin-left: 40px; \n",
    "  }\n",
    "  .bullet-points li {\n",
    "    margin-bottom: 20px; \n",
    "  }\n",
    "</style>\n",
    "\n",
    "<ul class = \"bullet-points\">\n",
    "  <li>Simple and funny quiz using inputs and outputs</li>\n",
    "</ul>"
   ]
  },
  {
   "cell_type": "code",
   "execution_count": null,
   "metadata": {},
   "outputs": [],
   "source": [
    "import getpass, sys\n",
    "\n",
    "def question_and_answer(prompt):\n",
    "    print(\"Question: \" + prompt)\n",
    "    msg = input()\n",
    "    print(\"Answer: \" + msg)\n",
    "\n",
    "\n",
    "def question_with_response(prompt):\n",
    "    print(\"Question: \" + prompt)\n",
    "    msg = input()\n",
    "    return msg\n",
    "\n",
    "questions = 10\n",
    "correct = 0\n",
    "\n",
    "print('Hello, ' + getpass.getuser() + \" running \" + sys.executable)\n",
    "print(\"You will be asked \" + str(questions) + \" questions.\")\n",
    "question_and_answer(\"Are you ready to take a test?\")\n",
    "\n",
    "rsp = question_with_response(\"What does “www” stand for in a website browser?\")\n",
    "if rsp == \"World Wide Web\":\n",
    "    print(rsp + \" is correct!\")\n",
    "    correct += 1\n",
    "else:\n",
    "    print(rsp + \" is incorrect!\")\n",
    "\n",
    "rsp = question_with_response(\"How long is an Olympic swimming pool (in meters)\")\n",
    "if rsp == \"50\":\n",
    "    print(rsp + \" is correct!\")\n",
    "    correct += 1\n",
    "else:\n",
    "    print(rsp + \" is incorrect!\")\n",
    "\n",
    "rsp = question_with_response(\"What geometric shape is generally used for stop signs?\")\n",
    "if rsp == \"Octagon\":\n",
    "    print(rsp + \" is correct!\")\n",
    "    correct += 1\n",
    "else:\n",
    "    print(rsp + \" is incorrect!\")\n",
    "    \n",
    "rsp = question_with_response(\"Which animal can be seen on the Porsche logo?\")\n",
    "if rsp == \"Horse\":\n",
    "    print(rsp + \" is correct!\")\n",
    "    correct += 1\n",
    "else:\n",
    "    print(rsp + \" is incorrect!\")\n",
    "    \n",
    "rsp = question_with_response(\"Who was the first woman to win a Nobel Prize (in 1903)?\")\n",
    "if rsp == \"Marie Curie\":\n",
    "    print(rsp + \" is correct!\")\n",
    "    correct += 1\n",
    "else:\n",
    "    print(rsp + \" is incorrect!\")\n",
    "    \n",
    "rsp = question_with_response(\"Worship of Krishna is observed by which Religious Faith?\")\n",
    "if rsp == \"Hinduism\":\n",
    "    print(rsp + \" is correct!\")\n",
    "    correct += 1\n",
    "else:\n",
    "    print(rsp + \" is incorrect!\")\n",
    "    \n",
    "rsp = question_with_response(\"What happned on Sept 11, 2001\")\n",
    "if rsp == \"Terrorists attacked the World Trade Centers\":\n",
    "    print(rsp + \" is correct!\")\n",
    "    correct += 1\n",
    "else:\n",
    "    print(rsp + \" is incorrect!\")\n",
    "    \n",
    "rsp = question_with_response(\"Who invented French fries?\")\n",
    "if rsp == \"Belgium\":\n",
    "    print(rsp + \" is correct!\")\n",
    "    correct += 1\n",
    "else:\n",
    "    print(rsp + \" is incorrect!\")\n",
    "    \n",
    "rsp = question_with_response(\"Whats the game plan?\")\n",
    "if rsp == \"I hate my life\":\n",
    "    print(rsp + \" is correct!\")\n",
    "    correct += 1\n",
    "else:\n",
    "    print(rsp + \" is incorrect!\")\n",
    "    \n",
    "rsp = question_with_response(\"Which side of Abundante is better?\")\n",
    "if rsp == \"Right side\":\n",
    "    print(rsp + \" is correct!\")\n",
    "    correct += 1\n",
    "else:\n",
    "    print(rsp + \" is incorrect!\")\n",
    "\n",
    "print(getpass.getuser() + \" you scored \" + str(correct) +\"/\" + str(questions))"
   ]
  },
  {
   "cell_type": "markdown",
   "metadata": {},
   "source": [
    "\n",
    "---\n",
    "\n",
    "## Program with list:\n",
    "\n",
    "<style>\n",
    "  .bullet-points {\n",
    "    list-style-type: disc; \n",
    "    margin-left: 40px; \n",
    "  }\n",
    "  .bullet-points li {\n",
    "    margin-bottom: 20px; \n",
    "  }\n",
    "</style>\n",
    "\n",
    "<ul class = \"bullet-points\">\n",
    "  <li>Lists colors to color code a graph of stock data</li>\n",
    "</ul>"
   ]
  },
  {
   "cell_type": "code",
   "execution_count": null,
   "metadata": {},
   "outputs": [],
   "source": [
    "import numpy as np\n",
    "import pandas as pd\n",
    "import pandas_datareader.data as web\n",
    "# Get stock data  \n",
    "all_data = {ticker: web.DataReader(ticker,'stooq')\n",
    "           for ticker in ['AAPL', 'NVDA', 'MSFT', 'TSLA', 'AMZN', 'NFLX', 'QCOM', 'SBUX']}\n",
    "# Extract the 'Adjusted Closing Price'\n",
    "price = pd.DataFrame({ticker: data['Close']\n",
    "                     for ticker, data in all_data.items() })"
   ]
  },
  {
   "cell_type": "code",
   "execution_count": null,
   "metadata": {},
   "outputs": [],
   "source": [
    "import matplotlib.pyplot as plt"
   ]
  },
  {
   "cell_type": "code",
   "execution_count": null,
   "metadata": {},
   "outputs": [],
   "source": [
    "colors = ['gold', 'red', 'blue', 'royalblue', 'black', 'purple', 'pink', 'green']\n",
    "\n",
    "fig6 = plt.figure(figsize=(6, 6))\n",
    "axes6 = fig6.add_subplot(1, 1, 1)\n",
    "\n",
    "# Create the bar chart with custom colors\n",
    "priceSTD = price.std()\n",
    "priceSTD.plot(ax=axes6, kind=\"bar\", rot=45, color=colors)\n",
    "\n",
    "axes6.set_ylabel(\"STD\", fontsize=12)\n",
    "axes6.set_xlabel(\"Stocks\", fontsize=12)\n",
    "axes6.set_title(\"STD of all 8 stocks\", fontsize=20)\n",
    "\n",
    "plt.show()\n",
    "\n",
    "#fig6.savefig('stocks4.png')"
   ]
  },
  {
   "cell_type": "markdown",
   "metadata": {},
   "source": [
    "| <img src=\"https://i.ibb.co/X3m3DDb/stocks4.png\" width = auto height = auto > |"
   ]
  },
  {
   "cell_type": "markdown",
   "metadata": {},
   "source": [
    "We create and use a list called 'colors' which dictates the colors of each of the bars in the graph. Without the list all 8 graphs would be one color, but with it we get that APPL is gold, NVDA is red, and so on and so forth. "
   ]
  },
  {
   "cell_type": "code",
   "execution_count": null,
   "metadata": {},
   "outputs": [],
   "source": [
    "priceCORR = price.corr()\n",
    "\n",
    "fig, ax = plt.subplots(figsize=(10, 6))\n",
    "priceCORR.plot(kind='bar', stacked=True, ax=ax, color=colors)\n",
    "ax.set_ylabel(\"Correlation\", fontsize=12)\n",
    "ax.set_xlabel(\"Stocks\", fontsize=12)\n",
    "ax.set_title(\"Correlation between Stocks\", fontsize=16)\n",
    "\n",
    "plt.legend(title='Stocks', loc='upper right')\n",
    "plt.xticks(rotation=0)  # Rotate x-axis labels if needed\n",
    "plt.show()\n",
    "\n",
    "#fig.savefig('stocks5.png')"
   ]
  },
  {
   "cell_type": "markdown",
   "metadata": {},
   "source": [
    "| <img src=\"https://i.ibb.co/g7Xhxk3/stocks5.png\" width = auto height = auto > |"
   ]
  },
  {
   "cell_type": "markdown",
   "metadata": {},
   "source": [
    "Since the list 'color' is already defined in the previous cell we don't have to redefine it in order to reuse it. "
   ]
  },
  {
   "cell_type": "markdown",
   "metadata": {},
   "source": [
    "\n",
    "---\n",
    "\n",
    "## Program with a dictionary:\n",
    "\n",
    "<style>\n",
    "  .bullet-points {\n",
    "    list-style-type: disc; \n",
    "    margin-left: 40px; \n",
    "  }\n",
    "  .bullet-points li {\n",
    "    margin-bottom: 20px; \n",
    "  }\n",
    "</style>\n",
    "\n",
    "<ul class = \"bullet-points\">\n",
    "  <li>Dictionary to display aspects of personal data</li>\n",
    "</ul>\n"
   ]
  },
  {
   "cell_type": "code",
   "execution_count": null,
   "metadata": {},
   "outputs": [],
   "source": [
    "# Command: \n",
    "personal_data = {'age': 30, 'pets': [0, 1, 2], 'drinks': ['coffee', 'tea']}\n",
    "personal_data"
   ]
  },
  {
   "cell_type": "code",
   "execution_count": null,
   "metadata": {},
   "outputs": [],
   "source": [
    "# Command: \n",
    "personal_data.keys()"
   ]
  },
  {
   "cell_type": "code",
   "execution_count": null,
   "metadata": {},
   "outputs": [],
   "source": [
    "# Command: \n",
    "personal_data.values()"
   ]
  },
  {
   "cell_type": "code",
   "execution_count": null,
   "metadata": {},
   "outputs": [],
   "source": [
    "# Command: \n",
    "type(personal_data)"
   ]
  },
  {
   "cell_type": "code",
   "execution_count": null,
   "metadata": {},
   "outputs": [],
   "source": [
    "# Command: \n",
    "personal_data['age']"
   ]
  },
  {
   "cell_type": "code",
   "execution_count": null,
   "metadata": {},
   "outputs": [],
   "source": [
    "# Command: \n",
    "personal_data['pets']"
   ]
  },
  {
   "cell_type": "code",
   "execution_count": null,
   "metadata": {},
   "outputs": [],
   "source": [
    "# Command: \n",
    "personal_data['drinks']"
   ]
  },
  {
   "cell_type": "code",
   "execution_count": null,
   "metadata": {},
   "outputs": [],
   "source": [
    "# Command: \n",
    "personal_data['age'] = 40\n",
    "personal_data"
   ]
  },
  {
   "cell_type": "code",
   "execution_count": null,
   "metadata": {},
   "outputs": [],
   "source": [
    "# Command: \n",
    "personal_data['sport'] = 'Chess'\n",
    "personal_data"
   ]
  },
  {
   "cell_type": "code",
   "execution_count": null,
   "metadata": {},
   "outputs": [],
   "source": [
    "# Command: \n",
    "del personal_data['sport']\n",
    "personal_data"
   ]
  },
  {
   "cell_type": "markdown",
   "metadata": {},
   "source": [
    "\n",
    "---\n",
    "\n",
    "## Program with iteration\n"
   ]
  },
  {
   "cell_type": "markdown",
   "metadata": {},
   "source": [
    "Write a `for loop` that sums up integers in the list below, and skips `None` values.\n",
    "```python\n",
    "sequence = [None, 2, 3, 6, None, 8, None, 11]\n",
    "```"
   ]
  },
  {
   "cell_type": "code",
   "execution_count": null,
   "metadata": {},
   "outputs": [],
   "source": [
    "sequence = [None, 12, 832, 2, None, 2, None, 11]\n",
    "total = 0\n",
    "for i in range(0,len(sequence)): \n",
    "    if type(sequence[i]) == int: \n",
    "        total += sequence[i]\n",
    "total"
   ]
  },
  {
   "cell_type": "markdown",
   "metadata": {},
   "source": [
    "Write a `while-loop` that prints a number as long as it is an even number less than 10, but otherwise, prints it is not less than 10. For example,  your output should look like this:\n",
    "\n",
    "```python\n",
    "0 is even and less than 10\n",
    "2 is even and less than 10\n",
    ".\n",
    ".\n",
    ".\n",
    "10 is not less than 10\n",
    "```"
   ]
  },
  {
   "cell_type": "code",
   "execution_count": null,
   "metadata": {},
   "outputs": [],
   "source": [
    "number = 0\n",
    "\n",
    "while number <= 10:\n",
    "    if number % 2 == 0 and number < 10:\n",
    "        print(f\"{number} is even and less than 10\")\n",
    "    else:\n",
    "        print(f\"{number} is not less than 10\")\n",
    "    number += 2\n"
   ]
  },
  {
   "cell_type": "markdown",
   "metadata": {},
   "source": [
    "\n",
    "---\n",
    "\n",
    "## Program with Math\n",
    "\n",
    "<style>\n",
    "  .bullet-points {\n",
    "    list-style-type: disc; \n",
    "    margin-left: 40px; \n",
    "  }\n",
    "  .bullet-points li {\n",
    "    margin-bottom: 20px; \n",
    "  }\n",
    "</style>\n",
    "\n",
    "<ul class = \"bullet-points\">\n",
    "  <li>Functions to calculate Annuity, Perpetuity, Present value, and Future value</li>\n",
    "</ul>"
   ]
  },
  {
   "cell_type": "code",
   "execution_count": null,
   "metadata": {},
   "outputs": [],
   "source": [
    "def annuity(rate, C, months, rate_check, month_check): \n",
    "    if str(rate_check) == \"percent\": \n",
    "        rate=rate/100\n",
    "        \n",
    "    if str(month_check) == 'year': \n",
    "        months = months*12\n",
    "        \n",
    "    PV = (C/rate)*(1-(1/(1+rate)**months))\n",
    "    annuity = PV + C\n",
    "    print(\"The annuity is: {:.2f}$\".format(annuity))\n",
    "    \n",
    "def perpetuity(rate, C, rate_check): \n",
    "        if str(rate_check) == \"percent\": \n",
    "            rate = rate/100\n",
    "            \n",
    "        PV = C/rate\n",
    "        print(\"The perpetuity of your deposit is: {:.2f}$\".format(PV))\n",
    "        \n",
    "def futureValue(rate, PV, months, rate_check, month_check):\n",
    "        if str(rate_check) == \"percent\": \n",
    "            rate = rate/100\n",
    "        \n",
    "        if str(month_check) == \"year\": \n",
    "            months = months*12\n",
    "        \n",
    "        FV = float(PV)*(1+float(rate))**float(months)\n",
    "        print(\"The future value of your deposit is: {:.2f}$\".format(FV))\n",
    "    \n",
    "def presentValue(rate, FV, months, rate_check, month_check): \n",
    "        if str(rate_check) == \"percent\": \n",
    "            rate = rate/100\n",
    "        \n",
    "        if str(month_check) == \"year\": \n",
    "            months = months*12\n",
    "            \n",
    "        PV = float(FV)/((1+float(rate))**float(months))\n",
    "        print(\"The present value of your deposit is: {:.2f}$\".format(PV))"
   ]
  },
  {
   "cell_type": "code",
   "execution_count": null,
   "metadata": {},
   "outputs": [],
   "source": [
    "annuity(0.12, 1000, 12, \"NA\", 'months')"
   ]
  },
  {
   "cell_type": "code",
   "execution_count": null,
   "metadata": {},
   "outputs": [],
   "source": [
    "perpetuity(12, 1000, 'percent')"
   ]
  },
  {
   "cell_type": "code",
   "execution_count": null,
   "metadata": {},
   "outputs": [],
   "source": [
    "futureValue(0.12, 1000, 12, 'NA', 'months')"
   ]
  },
  {
   "cell_type": "code",
   "execution_count": null,
   "metadata": {},
   "outputs": [],
   "source": [
    "presentValue(12, 1000, 1, 'percent', 'year')"
   ]
  },
  {
   "cell_type": "markdown",
   "metadata": {},
   "source": [
    "\n",
    "---\n",
    "\n",
    "## Program with a Selection/Condition\n",
    "\n",
    "<style>\n",
    "  .bullet-points {\n",
    "    list-style-type: disc; \n",
    "    margin-left: 40px; \n",
    "  }\n",
    "  .bullet-points li {\n",
    "    margin-bottom: 20px; \n",
    "  }\n",
    "</style>\n",
    "\n",
    "<ul class = \"bullet-points\">\n",
    "  <li>Program that helps take fitness into consideration and does calculations</li>\n",
    "</ul>"
   ]
  },
  {
   "cell_type": "code",
   "execution_count": null,
   "metadata": {},
   "outputs": [],
   "source": [
    "class Health: \n",
    "    weight = 0\n",
    "    height = 0\n",
    "    age = 0\n",
    "    \n",
    "    def __init__(measurements, weight, height, gender, age): \n",
    "        measurements.weight = weight\n",
    "        measurements.height = height\n",
    "        measurements.gender = gender\n",
    "        measurements.age = age\n",
    "        \n",
    "    def bmi(measurements):\n",
    "        bmi_temp = (measurements.weight/(measurements.height**2))*703\n",
    "        if bmi_temp < 18.5:\n",
    "            print(f\"Based on your BMI = {bmi_temp:.2f}, you are considered Underweight\")\n",
    "        elif 18.5 < bmi_temp < 24.9:\n",
    "            print(f\"Based on your BMI = {bmi_temp:.2f}, you are considered Normal\")\n",
    "        elif 25 < bmi_temp < 29.9:\n",
    "            print(f\"Based on your BMI = {bmi_temp:.2f}, you are considered Overweight\")\n",
    "        else:    \n",
    "            print(f\"Based on your BMI = {bmi_temp:.2f}, you are considered Obese\")\n",
    "       # return (measurements.weight/(measurements.height**2))*703\n",
    "    \n",
    "    def bmr(measurements):\n",
    "        bmr_temp_M = 66 + (6.3*measurements.weight) + (12.9*measurements.height) - (6.8*measurements.age)\n",
    "        bmr_temp_F = 655 + (4.3*measurements.weight) + (4.7*measurements.height) - (4.7*measurements.age)\n",
    "        if measurements.gender == \"M\":\n",
    "            print(f\"Based on your BMR = {bmr_temp_M:.2f} here are your recommended caloric intakes per activity level:\")\n",
    "            print(f\"Sedentary: little or no exercise = {1.2*bmr_temp_M:.2f} Calories\")\n",
    "            print(f\"Lightly Active: exercise/sports 1-3 days/week = {1.375*bmr_temp_M:.2f} Calories\")\n",
    "            print(f\"Moderately Active: exercise/sports 3-5 days/week = {1.55*bmr_temp_M:.2f} Calories\")\n",
    "            print(f\"Very Active: exercise/sports 6-7 days/week = {1.725*bmr_temp_M:.2f} Calories\")\n",
    "            print(f\"Extra Active: exercise daily, or physical job = {1.9*bmr_temp_M:.2f} Calories\")\n",
    "        else:\n",
    "            print(bmr_temp_F)\n",
    "            print(f\"Based on your BMR = {bmr_temp_F:.2f}, here are your recommended caloric intakes per activity level:\")\n",
    "            print(f\"Sedentary: little or no exercise = {1.2*bmr_temp_F:.2f} Calories\")\n",
    "            print(f\"Lightly Active: exercise/sports 1-3 days/week = {1.375*bmr_temp_F:.2f} Calories\")\n",
    "            print(f\"Moderately Active: exercise/sports 3-5 days/week = {1.55*bmr_temp_F:.2f} Calories\")\n",
    "            print(f\"Very Active: exercise/sports 6-7 days/week = {1.725*bmr_temp_F:.2f} Calories\")\n",
    "            print(f\"Extra Active: exercise daily, or physical job = {1.9*bmr_temp_F:.2f} Calories\")\n",
    "       "
   ]
  },
  {
   "cell_type": "code",
   "execution_count": null,
   "metadata": {},
   "outputs": [],
   "source": [
    "vitals = Health(130, 70.8,\"F\",48)"
   ]
  },
  {
   "cell_type": "code",
   "execution_count": null,
   "metadata": {},
   "outputs": [],
   "source": [
    "vitals.bmi()"
   ]
  },
  {
   "cell_type": "code",
   "execution_count": null,
   "metadata": {},
   "outputs": [],
   "source": [
    "vitals.bmr()"
   ]
  },
  {
   "cell_type": "markdown",
   "metadata": {},
   "source": [
    "\n",
    "---\n",
    "\n",
    "### Viual Illustration:\n",
    "\n",
    "<style>\n",
    "  .bullet-points {\n",
    "    list-style-type: disc; \n",
    "    margin-left: 40px; \n",
    "  }\n",
    "  .bullet-points li {\n",
    "    margin-bottom: 20px; \n",
    "  }\n",
    "</style>\n",
    "\n",
    "<ul class = \"bullet-points\">\n",
    "  <li>Flowchart of math function"
   ]
  },
  {
   "cell_type": "markdown",
   "metadata": {},
   "source": [
    "</li>\n",
    "</ul>"
   ]
  },
  {
   "cell_type": "code",
   "execution_count": null,
   "metadata": {},
   "outputs": [],
   "source": [
    "def annuity(rate, C, months, rate_check, month_check): \n",
    "    if str(rate_check) == \"percent\": \n",
    "        rate=rate/100\n",
    "        \n",
    "    if str(month_check) == 'year': \n",
    "        months = months*12\n",
    "        \n",
    "    PV = (C/rate)*(1-(1/(1+rate)**months))\n",
    "    annuity = PV + C\n",
    "    print(\"The annuity is: {:.2f}$\".format(annuity))\n",
    "    \n",
    "def perpetuity(rate, C, rate_check): \n",
    "        if str(rate_check) == \"percent\": \n",
    "            rate = rate/100\n",
    "            \n",
    "        PV = C/rate\n",
    "        print(\"The perpetuity of your deposit is: {:.2f}$\".format(PV))\n",
    "        \n",
    "def futureValue(rate, PV, months, rate_check, month_check):\n",
    "        if str(rate_check) == \"percent\": \n",
    "            rate = rate/100\n",
    "        \n",
    "        if str(month_check) == \"year\": \n",
    "            months = months*12\n",
    "        \n",
    "        FV = float(PV)*(1+float(rate))**float(months)\n",
    "        print(\"The future value of your deposit is: {:.2f}$\".format(FV))\n",
    "    \n",
    "def presentValue(rate, FV, months, rate_check, month_check): \n",
    "        if str(rate_check) == \"percent\": \n",
    "            rate = rate/100\n",
    "        \n",
    "        if str(month_check) == \"year\": \n",
    "            months = months*12\n",
    "            \n",
    "        PV = float(FV)/((1+float(rate))**float(months))\n",
    "        print(\"The present value of your deposit is: {:.2f}$\".format(PV))"
   ]
  },
  {
   "cell_type": "markdown",
   "metadata": {},
   "source": [
    "| <img src=\"https://i.ibb.co/n7v6HZG/Flowchart-2.png\" width = auto height = auto > |"
   ]
  },
  {
   "cell_type": "markdown",
   "metadata": {},
   "source": [
    "\n",
    "---\n",
    "\n",
    "## Documentation of a program with a List and Iteration:\n",
    "\n"
   ]
  },
  {
   "cell_type": "code",
   "execution_count": null,
   "metadata": {},
   "outputs": [],
   "source": [
    "def double_numbers(numbers):\n",
    "    \"\"\"\n",
    "    This Python program demonstrates list iteration to double each number in the given list.\n",
    "\n",
    "    Steps:\n",
    "    1. Define a list of numbers in the 'numbers_list' variable.\n",
    "    2. Call the 'double_numbers' function, passing the 'numbers_list'.\n",
    "    3. The function will double each number and return a new list.\n",
    "    4. The original and doubled lists will be printed.\n",
    "\n",
    "    Example:\n",
    "    If the 'numbers_list' contains [1, 2, 3, 4, 5], the program will output:\n",
    "    Original list: [1, 2, 3, 4, 5]\n",
    "    Doubled list: [2, 4, 6, 8, 10]\n",
    "    \"\"\"\n",
    "    doubled_numbers = []  # Initialize an empty list to store doubled numbers\n",
    "\n",
    "    # Iterate through each number in the input list\n",
    "    for num in numbers:\n",
    "        # Double the current number and append it to the new list\n",
    "        doubled_numbers.append(num * 2)\n",
    "\n",
    "    return doubled_numbers\n",
    "\n",
    "# Sample list of numbers\n",
    "numbers_list = [1, 2, 3, 4, 5]\n",
    "\n",
    "# Print the original list\n",
    "print(\"Original list:\", numbers_list)\n",
    "\n",
    "# Double the numbers in the list using the double_numbers function\n",
    "doubled_list = double_numbers(numbers_list)\n",
    "\n",
    "# Print the doubled list\n",
    "print(\"Doubled list:\", doubled_list)\n"
   ]
  },
  {
   "cell_type": "markdown",
   "metadata": {},
   "source": [
    "## Show comments on a program that does a mathematical and/or statistical calculation"
   ]
  },
  {
   "cell_type": "code",
   "execution_count": null,
   "metadata": {},
   "outputs": [],
   "source": [
    "def annuity(rate, C, months, rate_check, month_check): \n",
    "    \"\"\"Calculate the annuity based on provided parameters.\n",
    "\n",
    "    :rate: The interest rate (annual or monthly) as a decimal or percentage.\n",
    "    :C: The periodic payment or cash flow.\n",
    "    :months: The number of months or years, depending on the 'month_check'.\n",
    "    :rate_check: Specifies if the rate is in percentage ('percent') or decimal.\n",
    "    :month_check: Specifies if the time is in years ('year') or months.\n",
    "\n",
    "    Prints the calculated annuity.\n",
    "    \"\"\"\n",
    "    if str(rate_check) == \"percent\": \n",
    "        rate = rate / 100\n",
    "        \n",
    "    if str(month_check) == 'year': \n",
    "        months = months * 12\n",
    "        \n",
    "    PV = (C / rate) * (1 - (1 / (1 + rate) ** months))\n",
    "    annuity = PV + C\n",
    "    print(\"The annuity is: {:.2f}$\".format(annuity))\n",
    "\n",
    "\n",
    "def perpetuity(rate, C, rate_check): \n",
    "    \"\"\"Calculate the perpetuity based on provided parameters.\n",
    "\n",
    "    :rate: The interest rate (annual or monthly) as a decimal or percentage.\n",
    "    :C: The periodic payment or cash flow.\n",
    "    :rate_check: Specifies if the rate is in percentage ('percent') or decimal.\n",
    "\n",
    "    Prints the calculated perpetuity value.\n",
    "    \"\"\"\n",
    "    if str(rate_check) == \"percent\": \n",
    "        rate = rate / 100\n",
    "        \n",
    "    PV = C / rate\n",
    "    print(\"The perpetuity of your deposit is: {:.2f}$\".format(PV))\n",
    "\n",
    "\n",
    "def futureValue(rate, PV, months, rate_check, month_check):\n",
    "    \"\"\"Calculate the future value of an investment based on provided parameters.\n",
    "\n",
    "    :rate: The interest rate (annual or monthly) as a decimal or percentage.\n",
    "    :PV: The present value or initial investment.\n",
    "    :months: The number of months or years, depending on the 'month_check'.\n",
    "    :rate_check: Specifies if the rate is in percentage ('percent') or decimal.\n",
    "    :month_check: Specifies if the time is in years ('year') or months.\n",
    "\n",
    "    Prints the calculated future value.\n",
    "    \"\"\"\n",
    "    if str(rate_check) == \"percent\": \n",
    "        rate = rate / 100\n",
    "        \n",
    "    if str(month_check) == \"year\": \n",
    "        months = months * 12\n",
    "        \n",
    "    FV = float(PV) * (1 + float(rate)) ** float(months)\n",
    "    print(\"The future value of your deposit is: {:.2f}$\".format(FV))\n",
    "\n",
    "\n",
    "def presentValue(rate, FV, months, rate_check, month_check): \n",
    "    \"\"\"Calculate the present value of an investment based on provided parameters.\n",
    "\n",
    "    :rate: The interest rate (annual or monthly) as a decimal or percentage.\n",
    "    :FV: The future value or expected amount.\n",
    "    :months: The number of months or years, depending on the 'month_check'.\n",
    "    :rate_check: Specifies if the rate is in percentage ('percent') or decimal.\n",
    "    :month_check: Specifies if the time is in years ('year') or months.\n",
    "\n",
    "    Prints the calculated present value.\n",
    "    \"\"\"\n",
    "    if str(rate_check) == \"percent\": \n",
    "        rate = rate / 100\n",
    "        \n",
    "    if str(month_check) == \"year\": \n",
    "        months = months * 12\n",
    "            \n",
    "    PV = float(FV) / ((1 + float(rate)) ** float(months))\n",
    "    print(\"The present value of your deposit is: {:.2f}$\".format(PV))\n"
   ]
  },
  {
   "cell_type": "markdown",
   "metadata": {},
   "source": [
    "\n",
    "---\n",
    "\n",
    "## Program with purpose:\n",
    "\n",
    "<style>\n",
    "  .bullet-points {\n",
    "    list-style-type: disc; \n",
    "    margin-left: 40px; \n",
    "  }\n",
    "  .bullet-points li {\n",
    "    margin-bottom: 20px; \n",
    "  }\n",
    "</style>\n",
    "\n",
    "<ul class = \"bullet-points\">\n",
    "  <li>Income Tax Calculator</li>\n",
    "</ul>"
   ]
  },
  {
   "cell_type": "code",
   "execution_count": null,
   "metadata": {},
   "outputs": [],
   "source": [
    "# Function to calculate tax based on income\n",
    "def calculate_tax(income):\n",
    "    if income <= 10000:\n",
    "        tax = income * 0.10\n",
    "    elif income <= 50000:\n",
    "        tax = 10000 * 0.10 + (income - 10000) * 0.20\n",
    "    else:\n",
    "        tax = 10000 * 0.10 + 40000 * 0.20 + (income - 50000) * 0.30\n",
    "    return tax\n",
    "\n",
    "# Input the income\n",
    "income = float(input(\"Enter your income: \"))\n",
    "\n",
    "# Calculate the tax\n",
    "tax = calculate_tax(income)\n",
    "\n",
    "# Display the tax amount\n",
    "print(f\"Your tax amount is: ${tax:.2f}\")\n"
   ]
  },
  {
   "cell_type": "markdown",
   "metadata": {},
   "source": [
    "\n",
    "---\n",
    "\n",
    "## Tester function\n"
   ]
  },
  {
   "cell_type": "code",
   "execution_count": null,
   "metadata": {},
   "outputs": [],
   "source": [
    "numbers = []\n",
    "newNumbers = []\n",
    "i = 0\n",
    "\n",
    "while i < 100:\n",
    "    numbers.append(i)\n",
    "    i += 1\n",
    "\n",
    "for i in numbers:\n",
    "    if numbers[i] % 5 == 0:\n",
    "        newNumbers.append(numbers[i])\n",
    "    if numbers[i] % 2 == 0:\n",
    "        newNumbers.append(numbers[i])\n",
    "\n",
    "print(newNumbers) "
   ]
  },
  {
   "cell_type": "code",
   "execution_count": null,
   "metadata": {},
   "outputs": [],
   "source": [
    "check = 0\n",
    "\n",
    "for i in range(len(newNumbers)): \n",
    "    j = i-1\n",
    "    if newNumbers[i] == newNumbers[j]: \n",
    "        print(\"wrong on index \" + str(j) + \" and \" + str(i))\n",
    "        check += 1\n",
    "\n",
    "if check ==0: \n",
    "    print(\"All good :)\")"
   ]
  },
  {
   "cell_type": "code",
   "execution_count": null,
   "metadata": {},
   "outputs": [],
   "source": [
    "numbers = []\n",
    "newNumbers = []\n",
    "i = 0\n",
    "\n",
    "while i < 100:\n",
    "    numbers.append(i)\n",
    "    i += 1\n",
    "\n",
    "for i in numbers:\n",
    "    if numbers[i] % 5 == 0:\n",
    "        newNumbers.append(numbers[i])\n",
    "        continue\n",
    "    if numbers[i] % 2 == 0:\n",
    "        newNumbers.append(numbers[i])\n",
    "\n",
    "print(newNumbers) "
   ]
  },
  {
   "cell_type": "code",
   "execution_count": null,
   "metadata": {},
   "outputs": [],
   "source": [
    "check = 0\n",
    "\n",
    "for i in range(len(newNumbers)): \n",
    "    j = i-1\n",
    "    if newNumbers[i] == newNumbers[j]: \n",
    "        print(\"wrong on index \" + str(j) + \" and \" + str(i))\n",
    "        check += 1\n",
    "\n",
    "if check == 0: \n",
    "    print(\"All good :)\")"
   ]
  },
  {
   "cell_type": "code",
   "execution_count": null,
   "metadata": {},
   "outputs": [],
   "source": [
    "numbers = []\n",
    "newNumbers = []\n",
    "i = 0\n",
    "\n",
    "while i < 100:\n",
    "    numbers.append(i)\n",
    "    i += 1\n",
    "\n",
    "for i in numbers:\n",
    "    if numbers[i] % 5 == 0:\n",
    "        newNumbers.append(numbers[i])\n",
    "    elif numbers[i] % 2 == 0:\n",
    "        newNumbers.append(numbers[i])\n",
    "\n",
    "print(newNumbers) "
   ]
  },
  {
   "cell_type": "code",
   "execution_count": null,
   "metadata": {},
   "outputs": [],
   "source": [
    "check = 0\n",
    "\n",
    "for i in range(len(newNumbers)): \n",
    "    j = i-1\n",
    "    if newNumbers[i] == newNumbers[j]: \n",
    "        print(\"wrong on index \" + str(j) + \" and \" + str(i))\n",
    "        check += 1\n",
    "\n",
    "if check == 0: \n",
    "    print(\"All good :)\")"
   ]
  },
  {
   "cell_type": "code",
   "execution_count": null,
   "metadata": {},
   "outputs": [],
   "source": [
    "numbers = []\n",
    "newNumbers = []\n",
    "i = 0\n",
    "\n",
    "while i < 100:\n",
    "    numbers.append(i)\n",
    "    i += 1\n",
    "\n",
    "for i in numbers:\n",
    "    if numbers[i] % 5 == 0 or numbers[i] % 2 == 0:\n",
    "        newNumbers.append(numbers[i])\n",
    "\n",
    "print(newNumbers) "
   ]
  },
  {
   "cell_type": "code",
   "execution_count": null,
   "metadata": {},
   "outputs": [],
   "source": [
    "check = 0\n",
    "\n",
    "for i in range(len(newNumbers)): \n",
    "    j = i-1\n",
    "    if newNumbers[i] == newNumbers[j]: \n",
    "        print(\"wrong on index \" + str(j) + \" and \" + str(i))\n",
    "        check += 1\n",
    "\n",
    "if check == 0: \n",
    "    print(\"All good :)\")"
   ]
  }
 ],
 "metadata": {
  "kernelspec": {
   "display_name": "base",
   "language": "python",
   "name": "python3"
  },
  "language_info": {
   "codemirror_mode": {
    "name": "ipython",
    "version": 3
   },
   "file_extension": ".py",
   "mimetype": "text/x-python",
   "name": "python",
   "nbconvert_exporter": "python",
   "pygments_lexer": "ipython3",
   "version": "3.11.4"
  },
  "orig_nbformat": 4
 },
 "nbformat": 4,
 "nbformat_minor": 2
}
