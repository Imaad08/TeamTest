{
 "cells": [
  {
   "cell_type": "markdown",
   "metadata": {},
   "source": [
    "<!-- ---\n",
    "toc: false\n",
    "comments: True\n",
    "layout: post\n",
    "title: ChatGPT Voice Assistant\n",
    "description: Voice assistant powered by my OpenAi API Key and Python\n",
    "courses: { compsci: {week: 3} }\n",
    "type: hacks\n",
    "--- -->"
   ]
  },
  {
   "cell_type": "code",
   "execution_count": 4,
   "metadata": {},
   "outputs": [
    {
     "name": "stdout",
     "output_type": "stream",
     "text": [
      "Say 'Start' to start \n",
      "Ask away:\n",
      "You said: who is Elon Musk and what are some of his projects\n",
      "GPT says: \n",
      "\n",
      "Elon Musk is an engineer, entrepreneur, and innovator best known for founding and leading companies such as SpaceX, Tesla, and The Boring Company. He is also the CEO of Neuralink, a company focused on developing brain-machine interfaces. His projects range from space exploration to sustainable energy, artificial intelligence, and transportation. He has also been involved in projects such as Hyperloop and OpenAI.\n",
      "Say 'Start' to start \n"
     ]
    }
   ],
   "source": [
    "import openai\n",
    "import speech_recognition as sr\n",
    "import time\n",
    "from gtts import gTTS\n",
    "import os\n",
    "\n",
    "# Set key(will mot work on github due to openai/github deal)\n",
    "openai.api_key = \"put key here\"\n",
    "\n",
    "def transcribe_audio_to_text(filename):\n",
    "    recognizer = sr.Recognizer()\n",
    "    with sr.AudioFile(filename) as source:\n",
    "        audio = recognizer.record(source)\n",
    "    try:\n",
    "        return recognizer.recognize_google(audio)\n",
    "    except:\n",
    "        print('Error ocurred')\n",
    "\n",
    "def generate_response(prompt):\n",
    "    response = openai.Completion.create(\n",
    "        engine=\"text-davinci-003\",\n",
    "        prompt=prompt,\n",
    "        max_tokens=4000,\n",
    "        n=1,\n",
    "        stop=None,\n",
    "        temperature=0.7,\n",
    "    )\n",
    "    return response[\"choices\"][0][\"text\"]\n",
    "\n",
    "def speak_text(text):\n",
    "    tts = gTTS(text)\n",
    "    tts.save(\"output.mp3\")\n",
    "    os.system(\"afplay output.mp3\")  # Play the audio file\n",
    "\n",
    "def main():\n",
    "    while True:\n",
    "        # Wait for keyword\n",
    "        print(\"Say 'Start' to start \")\n",
    "        with sr.Microphone() as source:\n",
    "            recognizer = sr.Recognizer()\n",
    "            audio = recognizer.listen(source)\n",
    "            try:\n",
    "                transcription = recognizer.recognize_google(audio)\n",
    "                if transcription.lower() == \"start\":\n",
    "                    # Record\n",
    "                    filename = \"input.wav\"\n",
    "                    print(\"Ask away:\")\n",
    "                    with sr.Microphone() as source:\n",
    "                        recognizer = sr.Recognizer()\n",
    "                        source.pause_threshold = 1\n",
    "                        audio = recognizer.listen(source, phrase_time_limit=None, timeout=None)\n",
    "                        with open(filename, \"wb\") as f:\n",
    "                            f.write(audio.get_wav_data())\n",
    "\n",
    "                        # Transcribe\n",
    "                        text = transcribe_audio_to_text(filename)\n",
    "                        if text:\n",
    "                            print(f\"You said: {text}\")\n",
    "\n",
    "                            # Generate response\n",
    "                            response = generate_response(text)\n",
    "                            print(f\"GPT says: {response}\")\n",
    "\n",
    "                            # Speak the GPT response\n",
    "                            speak_text(response)\n",
    "            except KeyboardInterrupt:\n",
    "                print(\"Recording interrupted by user.\")\n",
    "            except Exception as e:\n",
    "                print(\"An error occurred: {}\".format(e))\n",
    "\n",
    "if __name__ == \"__main__\":\n",
    "    main()\n"
   ]
  },
  {
   "cell_type": "markdown",
   "metadata": {},
   "source": [
    "<script src=\"https://utteranc.es/client.js\"\n",
    "        repo=\"student2\"\n",
    "        issue-term=\"pathname\"\n",
    "        theme=\"github-light\"\n",
    "        crossorigin=\"anonymous\"\n",
    "        async>\n",
    "</script> "
   ]
  }
 ],
 "metadata": {
  "kernelspec": {
   "display_name": "base",
   "language": "python",
   "name": "python3"
  },
  "language_info": {
   "codemirror_mode": {
    "name": "ipython",
    "version": 3
   },
   "file_extension": ".py",
   "mimetype": "text/x-python",
   "name": "python",
   "nbconvert_exporter": "python",
   "pygments_lexer": "ipython3",
   "version": "3.11.4"
  },
  "orig_nbformat": 4
 },
 "nbformat": 4,
 "nbformat_minor": 2
}
