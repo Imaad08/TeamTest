{
 "cells": [
  {
   "cell_type": "markdown",
   "metadata": {},
   "source": [
    "<!-- ---\n",
    "layout: post\n",
    "title: Python quiz\n",
    "description: A simple Python quiz to get familliar with the language.\n",
    "comments: True\n",
    "categories: ['5.A', 'C4.1']\n",
    "courses: {'compsci': {'week': 1}}\n",
    "type: hacks\n",
    "--- -->\n"
   ]
  },
  {
   "cell_type": "code",
   "execution_count": 10,
   "metadata": {},
   "outputs": [
    {
     "name": "stdout",
     "output_type": "stream",
     "text": [
      "Hello, imaadmuzaffer running /usr/local/opt/python@3.11/bin/python3.11\n",
      "You will be asked 3 questions.\n",
      "Are you ready to take a test?\n"
     ]
    },
    {
     "name": "stdout",
     "output_type": "stream",
     "text": [
      "Question: What is the keywoard to declare a function in python?\n",
      "def is correct!\n",
      "Question: What is a collection of items, which can be of varying data types, called in Python?\n",
      "list is correct!\n",
      "Question: Each 'if' command contains an '_________' to determine a true or false condition?\n",
      "expression is correct!\n",
      "imaadmuzaffer you scored 3/3\n"
     ]
    }
   ],
   "source": [
    "import getpass, sys\n",
    "\n",
    "def question_with_response(prompt):\n",
    "    print(\"Question: \" + prompt)\n",
    "    msg = input()\n",
    "    return msg\n",
    "def question_and_answer(prompt):\n",
    "    print(prompt)\n",
    "    msg1 = input()\n",
    "    return msg1\n",
    "questions = 3\n",
    "correct = 0\n",
    "\n",
    "print('Hello, ' + getpass.getuser() + \" running \" + sys.executable)\n",
    "print(\"You will be asked \" + str(questions) + \" questions.\")\n",
    "question_and_answer(\"Are you ready to take a test?\")\n",
    "\n",
    "rsp = question_with_response(\"What is the keywoard to declare a function in python?\")\n",
    "if rsp == \"def\":\n",
    "    print(rsp + \" is correct!\")\n",
    "    correct += 1\n",
    "elif rsp == \"Def\":\n",
    "    print(rsp +\" is correct!\")\n",
    "    correct += 1\n",
    "else:\n",
    "    print(rsp + \" is incorrect!\")\n",
    "\n",
    "rsp = question_with_response(\"What is a collection of items, which can be of varying data types, called in Python?\")\n",
    "if rsp == \"list\":\n",
    "    print(rsp + \" is correct!\")\n",
    "    correct += 1\n",
    "elif rsp == \"List\":\n",
    "    print(rsp +\" is correct!\")\n",
    "    correct += 1\n",
    "elif rsp == \"a list\":\n",
    "    print(rsp +\" is correct!\")\n",
    "    correct += 1\n",
    "elif rsp == \"A list\":\n",
    "    print(rsp +\" is correct!\")\n",
    "    correct += 1\n",
    "else:\n",
    "    print(rsp + \" is incorrect!\")\n",
    "\n",
    "rsp = question_with_response(\"Each 'if' command contains an '_________' to determine a true or false condition?\")\n",
    "if rsp == \"expression\":\n",
    "    print(rsp + \" is correct!\")\n",
    "    correct += 1\n",
    "elif rsp == \"Expression\":\n",
    "    print(rsp +\" is correct!\")\n",
    "    correct += 1\n",
    "else:\n",
    "    print(rsp + \" is incorrect!\")\n",
    "\n",
    "print(getpass.getuser() + \" you scored \" + str(correct) +\"/\" + str(questions))"
   ]
  },
  {
   "cell_type": "markdown",
   "metadata": {},
   "source": [
    "<script src=\"https://utteranc.es/client.js\"\n",
    "        repo=\"student2\"\n",
    "        issue-term=\"pathname\"\n",
    "        theme=\"github-light\"\n",
    "        crossorigin=\"anonymous\"\n",
    "        async>\n",
    "</script> "
   ]
  }
 ],
 "metadata": {
  "kernelspec": {
   "display_name": "Python 3 (ipykernel)",
   "language": "python",
   "name": "python3"
  },
  "language_info": {
   "codemirror_mode": {
    "name": "ipython",
    "version": 3
   },
   "file_extension": ".py",
   "mimetype": "text/x-python",
   "name": "python",
   "nbconvert_exporter": "python",
   "pygments_lexer": "ipython3",
   "version": "3.11.4"
  }
 },
 "nbformat": 4,
 "nbformat_minor": 4
}
