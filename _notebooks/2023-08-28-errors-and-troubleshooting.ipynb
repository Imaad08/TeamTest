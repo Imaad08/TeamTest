{
 "cells": [
  {
   "cell_type": "markdown",
   "metadata": {},
   "source": [
    "<!-- ---\n",
    "layout: post\n",
    "title: Errors and Troubleshooting\n",
    "description: Issues I encountered and how I got past them.\n",
    "toc: true\n",
    "comments: true\n",
    "categories: [5.A, C4.1]\n",
    "courses: { csse: {week: 1}, csp: {week: 1, categories: [6.B]}, csa: {week: 1} }\n",
    "type: devops\n",
    "--- -->"
   ]
  },
  {
   "cell_type": "markdown",
   "metadata": {},
   "source": [
    "## Errors I encountered and how I fixed them\n",
    "\n",
    "- Encountered error with Ruby version after downloading Ruby 3 via Homebrew.\n",
    "Command ruby -v showed version 2.6 (default macOS version), causing issues with some Ruby commands.\n",
    "\n",
    "- Used which -a ruby to identify incorrect Ruby directory in terminal.\n",
    "Installed Jekyll gems after correcting Ruby directory.\n",
    "\n",
    "- Ran brew info ruby to gather information from terminal output.\n",
    "Echo command from output set correct Ruby directory.\n",
    "\n",
    "- Faced Python version and pip command issue.\n",
    "pip commands not detected, python --version showed 2.7 despite installing version 3.11.4.\n",
    "\n",
    "- Followed guidance from Mr. Mortensen, ran activate_macos.sh script to fix Python and pip issue.\n",
    "\n",
    "- Successful in obtaining correct Python version and getting pip commands to work.\n",
    "\n",
    "- Ran bundle install and make to begin editing website.\n",
    "\n",
    "- Identified code issue: Overlapping text in minimal theme's blog section (config.yml file).\n",
    "\n",
    "- Suspected styling error in header tag causing the problem.\n",
    "\n",
    "- Unable to locate exact error in styling.\n",
    "\n",
    "- Recent error in styling calculator: Added style.css but text displayed under buttons.\n",
    "\n",
    "- Resolved by merging CSS and JavaScript into markdown using style and script tags.\n"
   ]
  }
 ],
 "metadata": {
  "language_info": {
   "name": "python"
  },
  "orig_nbformat": 4
 },
 "nbformat": 4,
 "nbformat_minor": 2
}
